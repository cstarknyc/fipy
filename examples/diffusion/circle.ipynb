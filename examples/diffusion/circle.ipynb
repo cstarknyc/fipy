{
 "cells": [
  {
   "cell_type": "markdown",
   "metadata": {},
   "source": [
    "# Diffusion across a circular domain"
   ]
  },
  {
   "cell_type": "code",
   "execution_count": null,
   "metadata": {
    "collapsed": false
   },
   "outputs": [],
   "source": [
    "doPlotInline = False\n",
    "import fipy as fi\n",
    "import numpy as np\n",
    "from scipy.special import erf \n",
    "import localGraphing as lg\n",
    "if doPlotInline:\n",
    "    %matplotlib inline\n",
    "lg.closeAll()\n",
    "lg.setParams(doPlotInline)"
   ]
  },
  {
   "cell_type": "markdown",
   "metadata": {},
   "source": [
    "Solve the diffusion equation in a circular domain meshed with triangles.\n",
    "\n",
    "This example demonstrates how to solve a simple diffusion problem on a\n",
    "non-standard mesh with varying boundary conditions. The `Gmsh` package\n",
    "is used to create the mesh. Firstly, define some parameters for the\n",
    "creation of the mesh,"
   ]
  },
  {
   "cell_type": "code",
   "execution_count": null,
   "metadata": {
    "collapsed": true
   },
   "outputs": [],
   "source": [
    "cellSize = 0.05\n",
    "radius = 1."
   ]
  },
  {
   "cell_type": "markdown",
   "metadata": {},
   "source": [
    "The `cellSize` is the preferred edge length of each mesh element and\n",
    "the `radius` is the radius of the circular mesh domain. In the\n",
    "following code section a file is created with the geometry that\n",
    "describes the mesh. For details of how to write such geometry files\n",
    "for `Gmsh`, see the Gmsh manual:\n",
    "\n",
    " http://www.geuz.org/gmsh/doc/texinfo/gmsh.html\n",
    "\n",
    "The mesh created by `Gmsh` is then imported into `FiPy` using the\n",
    "`Gmsh2D` object."
   ]
  },
  {
   "cell_type": "code",
   "execution_count": null,
   "metadata": {
    "collapsed": false
   },
   "outputs": [],
   "source": [
    "mesh = fi.Gmsh2D('''\n",
    "              cellSize = %(cellSize)g;\n",
    "              radius = %(radius)g;\n",
    "              Point(1) = {0, 0, 0, cellSize};\n",
    "              Point(2) = {-radius, 0, 0, cellSize};\n",
    "              Point(3) = {0, radius, 0, cellSize};\n",
    "              Point(4) = {radius, 0, 0, cellSize};\n",
    "              Point(5) = {0, -radius, 0, cellSize};\n",
    "              Circle(6) = {2, 1, 3};\n",
    "              Circle(7) = {3, 1, 4};\n",
    "              Circle(8) = {4, 1, 5};\n",
    "              Circle(9) = {5, 1, 2};\n",
    "              Line Loop(10) = {6, 7, 8, 9};\n",
    "              Plane Surface(11) = {10};\n",
    "              ''' % locals()) "
   ]
  },
  {
   "cell_type": "markdown",
   "metadata": {},
   "source": [
    "Using this mesh, we can construct a solution variable"
   ]
  },
  {
   "cell_type": "code",
   "execution_count": null,
   "metadata": {
    "collapsed": false
   },
   "outputs": [],
   "source": [
    "phi = fi.CellVariable(name = \"solution variable\", mesh = mesh, value = 0.)"
   ]
  },
  {
   "cell_type": "markdown",
   "metadata": {},
   "source": [
    "We can now create a viewer to see the mesh"
   ]
  },
  {
   "cell_type": "code",
   "execution_count": null,
   "metadata": {
    "collapsed": true
   },
   "outputs": [],
   "source": [
    "graphTitle = '$T(x,y;t=0)$'\n",
    "axisLabels = ('$x$','$y$')\n",
    "limits={'datamin': -1.0, 'datamax': 1.0}"
   ]
  },
  {
   "cell_type": "code",
   "execution_count": null,
   "metadata": {
    "collapsed": false
   },
   "outputs": [],
   "source": [
    "viewer1 = lg.createViewer(graphTitle, (phi), axisLabels,limits )\n",
    "viewer1.axes.set_aspect(1)\n",
    "# viewer1.plotMesh()"
   ]
  },
  {
   "cell_type": "markdown",
   "metadata": {},
   "source": [
    "We set up a transient diffusion equation"
   ]
  },
  {
   "cell_type": "code",
   "execution_count": null,
   "metadata": {
    "collapsed": false
   },
   "outputs": [],
   "source": [
    "D = 1.\n",
    "eq = fi.TransientTerm() == fi.DiffusionTerm(coeff=D)"
   ]
  },
  {
   "cell_type": "markdown",
   "metadata": {},
   "source": [
    "The following line extracts the $x$ coordinate values on the exterior\n",
    "faces. These are used as the boundary condition fixed values."
   ]
  },
  {
   "cell_type": "code",
   "execution_count": null,
   "metadata": {
    "collapsed": true
   },
   "outputs": [],
   "source": [
    "X, Y = mesh.faceCenters\n",
    "phi.constrain(X, mesh.exteriorFaces)"
   ]
  },
  {
   "cell_type": "markdown",
   "metadata": {},
   "source": [
    "We first step through the transient problem"
   ]
  },
  {
   "cell_type": "code",
   "execution_count": null,
   "metadata": {
    "collapsed": false
   },
   "outputs": [],
   "source": [
    "deltaTime = 10 * 0.9 * cellSize**2 / (2 * D)\n",
    "steps = 10\n",
    "simTime = 0\n",
    "for step in range(steps):\n",
    "    simTime += deltaTime\n",
    "    eq.solve(var=phi, dt=deltaTime)\n",
    "    graphTitle='$T(x,y;\\,t=%g)$' %np.round(simTime,2)\n",
    "    if not(doPlotInline):\n",
    "        viewer1.axes.set_title(graphTitle)\n",
    "        viewer1.plot()\n",
    "if (doPlotInline):\n",
    "    viewer1b = lg.createViewer(graphTitle, (phi), axisLabels,limits )\n",
    "    viewer1b.axes.set_aspect(1)"
   ]
  },
  {
   "cell_type": "markdown",
   "metadata": {},
   "source": [
    "       \n",
    "-----\n",
    "\n",
    "This problem again has an analytical solution that depends on the error\n",
    "function, but it's a bit more complicated due to the varying boundary\n",
    "conditions and the different horizontal diffusion length at different\n",
    "vertical positions"
   ]
  },
  {
   "cell_type": "code",
   "execution_count": null,
   "metadata": {
    "collapsed": false
   },
   "outputs": [],
   "source": [
    "x, y = mesh.cellCenters\n",
    "t = deltaTime * steps"
   ]
  },
  {
   "cell_type": "code",
   "execution_count": null,
   "metadata": {
    "collapsed": true
   },
   "outputs": [],
   "source": [
    "phiAnalytical = fi.CellVariable(name=\"analytical value\", mesh=mesh)"
   ]
  },
  {
   "cell_type": "code",
   "execution_count": null,
   "metadata": {
    "collapsed": false
   },
   "outputs": [],
   "source": [
    "x0 = radius * fi.numerix.cos(fi.numerix.arcsin(y))\n",
    "phiAnalytical.setValue(x0 * (erf((x0+x) / (2*fi.numerix.sqrt(D * t))) \n",
    "                             - erf((x0-x) / (2*fi.numerix.sqrt(D * t)))))\n",
    "print(phi.allclose(phiAnalytical, atol = 7e-2))"
   ]
  },
  {
   "cell_type": "markdown",
   "metadata": {},
   "source": [
    "-----\n",
    "\n",
    "As in the earlier examples, we can also directly solve the steady-state\n",
    "diffusion problem."
   ]
  },
  {
   "cell_type": "code",
   "execution_count": null,
   "metadata": {
    "collapsed": true
   },
   "outputs": [],
   "source": [
    "fi.DiffusionTerm(coeff=D).solve(var=phi)"
   ]
  },
  {
   "cell_type": "markdown",
   "metadata": {},
   "source": [
    "                                                 \n",
    "The values at the elements should be equal to their `x` coordinate"
   ]
  },
  {
   "cell_type": "code",
   "execution_count": null,
   "metadata": {
    "collapsed": false
   },
   "outputs": [],
   "source": [
    "print(phi.allclose(x, atol = 0.03))"
   ]
  },
  {
   "cell_type": "code",
   "execution_count": null,
   "metadata": {
    "collapsed": true
   },
   "outputs": [],
   "source": [
    "graphTitle = '$T_\\mathrm{steady}(x,y)$'\n",
    "viewer2 = lg.createViewer(graphTitle, (phi), axisLabels,limits)\n",
    "viewer2.axes.set_aspect(1)\n",
    "viewer2.plot()"
   ]
  }
 ],
 "metadata": {
  "kernelspec": {
   "display_name": "Python 3",
   "language": "python",
   "name": "python3"
  },
  "language_info": {
   "codemirror_mode": {
    "name": "ipython",
    "version": 3
   },
   "file_extension": ".py",
   "mimetype": "text/x-python",
   "name": "python",
   "nbconvert_exporter": "python",
   "pygments_lexer": "ipython3",
   "version": "3.4.3"
  }
 },
 "nbformat": 4,
 "nbformat_minor": 0
}
